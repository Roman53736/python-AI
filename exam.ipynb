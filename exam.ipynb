{
  "nbformat": 4,
  "nbformat_minor": 0,
  "metadata": {
    "colab": {
      "provenance": [],
      "authorship_tag": "ABX9TyMpvpILQ8tlO22uACvL7GzO",
      "include_colab_link": true
    },
    "kernelspec": {
      "name": "python3",
      "display_name": "Python 3"
    },
    "language_info": {
      "name": "python"
    }
  },
  "cells": [
    {
      "cell_type": "markdown",
      "metadata": {
        "id": "view-in-github",
        "colab_type": "text"
      },
      "source": [
        "<a href=\"https://colab.research.google.com/github/Roman53736/python-AI/blob/main/exam.ipynb\" target=\"_parent\"><img src=\"https://colab.research.google.com/assets/colab-badge.svg\" alt=\"Open In Colab\"/></a>"
      ]
    },
    {
      "cell_type": "code",
      "source": [
        "from deepface import DeepFace\n",
        "import json\n",
        "def face_verify(img_1, img_2):\n",
        "      try:\n",
        "             result_dict = DeepFace.verify(img1_path=img_1, img2_path=img_2)\n",
        "             with open('result.json', 'w') as file:\n",
        "                json.dump(result_dict, file, indent=4, ensure_ascii=False)\n",
        "             #return result_dict\n",
        "             if result_dict.get('verified'):\n",
        "                return 'Співпадіння обличчя'\n",
        "             return 'Неспівпадіння обличчя'\n",
        "      except Exception as _ex:\n",
        "             return _ex\n",
        "def face_recognation():\n",
        "      try:\n",
        "             result = DeepFace.find(img_path='/faces/3.jpg', db_path='/Johnny')\n",
        "\n",
        "             return result\n",
        "      except Exception as _ex:\n",
        "             return _ex\n",
        "\n",
        "def face_analyze():\n",
        "      try:\n",
        "             result_dict = DeepFace.analyze(img_path='/faces/2.jpg', actions=['age', 'gender', 'race', 'emotion'])\n",
        "             with open('face_analyze.json', 'w') as file:\n",
        "                json.dump(result_dict, file, indent=4, ensure_ascii=False)\n",
        "             #print(f'[+] Age: {result_dict.get(\"age\")}')\n",
        "             #print(f'[+] Gender: {result_dict.get(\"gender\")}')\n",
        "            # print('[+] Race:')\n",
        "             #for k , v in result_dict.get('race').items():\n",
        "                 #print(f'{k} - {round(v, 2)}%')\n",
        "             #print('[+] Emotions:')\n",
        "             #for k , v in result_dict.get('emotion').items():\n",
        "                 #print(f'{k} - {round(v, 2)}%')\n",
        "             return result_dict\n",
        "\n",
        "      except Exception as _ex:\n",
        "             return _ex\n",
        "def main():\n",
        "\n",
        "         #print(face_verify(img_1='/faces/1.jpg', img_2='/faces/2.jpg'))\n",
        "         #print(face_recognation())\n",
        "      print(face_analyze())\n",
        "\n",
        "\n",
        "if __name__ == '__main__':\n",
        "         main()\n"
      ],
      "metadata": {
        "colab": {
          "base_uri": "https://localhost:8080/"
        },
        "id": "s5ZYwWh18epr",
        "outputId": "e99dcf1d-e3d3-4b49-8cb5-824e6fd63a6c"
      },
      "execution_count": null,
      "outputs": [
        {
          "output_type": "stream",
          "name": "stderr",
          "text": [
            "Action: emotion: 100%|██████████| 4/4 [00:04<00:00,  1.03s/it]"
          ]
        },
        {
          "output_type": "stream",
          "name": "stdout",
          "text": [
            "[{'age': 31, 'region': {'x': 202, 'y': 32, 'w': 293, 'h': 293, 'left_eye': (407, 145), 'right_eye': (290, 144)}, 'face_confidence': 0.89, 'gender': {'Woman': 99.99979734420776, 'Man': 0.00020035740817547776}, 'dominant_gender': 'Woman', 'race': {'asian': 0.8681715466082096, 'indian': 0.6371316500008106, 'black': 0.040446309139952064, 'white': 62.72150278091431, 'middle eastern': 16.095450520515442, 'latino hispanic': 19.637295603752136}, 'dominant_race': 'white', 'emotion': {'angry': 0.03763680130475148, 'disgust': 1.599241881458891e-07, 'fear': 0.08370775197204924, 'happy': 0.0032033178105254846, 'sad': 1.1792714233074875, 'surprise': 0.0026508034830420783, 'neutral': 98.69352594691206}, 'dominant_emotion': 'neutral'}]\n"
          ]
        },
        {
          "output_type": "stream",
          "name": "stderr",
          "text": [
            "\n"
          ]
        }
      ]
    },
    {
      "cell_type": "code",
      "source": [
        "from deepface import DeepFace\n",
        "import json\n",
        "import matplotlib.pyplot as plt\n",
        "\n",
        "def face_verify(img_1, img_2):\n",
        "    try:\n",
        "        result_dict = DeepFace.verify(img1_path=img_1, img2_path=img_2)\n",
        "        with open('result.json', 'w') as file:\n",
        "            json.dump(result_dict, file, indent=4, ensure_ascii=False)\n",
        "        if result_dict.get('verified'):\n",
        "            return 'Співпадіння обличчя'\n",
        "        return 'Неспівпадіння обличчя'\n",
        "    except Exception as _ex:\n",
        "        return _ex\n",
        "\n",
        "def face_recognation():\n",
        "    try:\n",
        "        result = DeepFace.find(img_path='/faces/1.jpg', db_path='/Johnny')\n",
        "        return result\n",
        "    except Exception as _ex:\n",
        "        return _ex\n",
        "\n",
        "def face_analyze():\n",
        "    try:\n",
        "        result_dict = DeepFace.analyze(img_path='/faces/3.jpg', actions=['age', 'gender', 'race', 'emotion'])\n",
        "        with open('face_analyze.json', 'w') as file:\n",
        "            json.dump(result_dict, file, indent=4, ensure_ascii=False)\n",
        "\n",
        "        # Print age and gender\n",
        "        print(f'[+] Age: {result_dict.get(\"age\")}')\n",
        "        print(f'[+] Gender: {result_dict.get(\"gender\")}')\n",
        "\n",
        "        # Plot race distribution\n",
        "        race_dict = result_dict.get('race')\n",
        "        race_labels = list(race_dict.keys())\n",
        "        race_values = list(race_dict.values())\n",
        "        plt.bar(race_labels, race_values)\n",
        "        plt.xlabel('Race')\n",
        "        plt.ylabel('Probability')\n",
        "        plt.title('Race Distribution')\n",
        "        plt.show()\n",
        "\n",
        "        # Plot emotion distribution\n",
        "        emotion_dict = result_dict.get('emotion')\n",
        "        emotion_labels = list(emotion_dict.keys())\n",
        "        emotion_values = list(emotion_dict.values())\n",
        "        plt.bar(emotion_labels, emotion_values)\n",
        "        plt.xlabel('Emotion')\n",
        "        plt.ylabel('Probability')\n",
        "        plt.title('Emotion Distribution')\n",
        "        plt.show()\n",
        "\n",
        "        return result_dict\n",
        "\n",
        "    except Exception as _ex:\n",
        "        return _ex\n",
        "\n",
        "def main():\n",
        "    # print(face_verify(img_1='/faces/1.jpg', img_2='/faces/2.jpg'))\n",
        "    # print(face_recognation())\n",
        "    print(face_analyze())\n",
        "\n",
        "if __name__ == '__main__':\n",
        "    main()"
      ],
      "metadata": {
        "colab": {
          "base_uri": "https://localhost:8080/"
        },
        "id": "rbeLCQlYlo4v",
        "outputId": "5220c64d-bc4e-42eb-a4e4-cd6d2e7fa782"
      },
      "execution_count": null,
      "outputs": [
        {
          "output_type": "stream",
          "name": "stderr",
          "text": [
            "Action: emotion: 100%|██████████| 4/4 [00:03<00:00,  1.24it/s]"
          ]
        },
        {
          "output_type": "stream",
          "name": "stdout",
          "text": [
            "'list' object has no attribute 'get'\n"
          ]
        },
        {
          "output_type": "stream",
          "name": "stderr",
          "text": [
            "\n"
          ]
        }
      ]
    },
    {
      "cell_type": "code",
      "source": [
        "!pip install matplotlib"
      ],
      "metadata": {
        "colab": {
          "base_uri": "https://localhost:8080/"
        },
        "id": "nDumWPHxoZ8L",
        "outputId": "6ac0a9a4-981a-40bd-b7a0-2f2f2fbfd74d"
      },
      "execution_count": null,
      "outputs": [
        {
          "output_type": "stream",
          "name": "stdout",
          "text": [
            "Requirement already satisfied: matplotlib in /usr/local/lib/python3.10/dist-packages (3.8.0)\n",
            "Requirement already satisfied: contourpy>=1.0.1 in /usr/local/lib/python3.10/dist-packages (from matplotlib) (1.3.1)\n",
            "Requirement already satisfied: cycler>=0.10 in /usr/local/lib/python3.10/dist-packages (from matplotlib) (0.12.1)\n",
            "Requirement already satisfied: fonttools>=4.22.0 in /usr/local/lib/python3.10/dist-packages (from matplotlib) (4.55.0)\n",
            "Requirement already satisfied: kiwisolver>=1.0.1 in /usr/local/lib/python3.10/dist-packages (from matplotlib) (1.4.7)\n",
            "Requirement already satisfied: numpy<2,>=1.21 in /usr/local/lib/python3.10/dist-packages (from matplotlib) (1.26.4)\n",
            "Requirement already satisfied: packaging>=20.0 in /usr/local/lib/python3.10/dist-packages (from matplotlib) (24.2)\n",
            "Requirement already satisfied: pillow>=6.2.0 in /usr/local/lib/python3.10/dist-packages (from matplotlib) (11.0.0)\n",
            "Requirement already satisfied: pyparsing>=2.3.1 in /usr/local/lib/python3.10/dist-packages (from matplotlib) (3.2.0)\n",
            "Requirement already satisfied: python-dateutil>=2.7 in /usr/local/lib/python3.10/dist-packages (from matplotlib) (2.8.2)\n",
            "Requirement already satisfied: six>=1.5 in /usr/local/lib/python3.10/dist-packages (from python-dateutil>=2.7->matplotlib) (1.16.0)\n"
          ]
        }
      ]
    }
  ]
}