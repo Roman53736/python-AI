{
  "nbformat": 4,
  "nbformat_minor": 0,
  "metadata": {
    "colab": {
      "provenance": [],
      "authorship_tag": "ABX9TyP2s2pINiqwynvFIM9o/MOT",
      "include_colab_link": true
    },
    "kernelspec": {
      "name": "python3",
      "display_name": "Python 3"
    },
    "language_info": {
      "name": "python"
    }
  },
  "cells": [
    {
      "cell_type": "markdown",
      "metadata": {
        "id": "view-in-github",
        "colab_type": "text"
      },
      "source": [
        "<a href=\"https://colab.research.google.com/github/Roman53736/python-AI/blob/main/exam.ipynb\" target=\"_parent\"><img src=\"https://colab.research.google.com/assets/colab-badge.svg\" alt=\"Open In Colab\"/></a>"
      ]
    },
    {
      "cell_type": "code",
      "source": [
        "from deepface import DeepFace\n",
        "import json\n",
        "def face_verify(img_1, img_2):\n",
        "      try:\n",
        "             result_dict = DeepFace.verify(img1_path=img_1, img2_path=img_2)\n",
        "             with open('result.json', 'w') as file:\n",
        "                json.dump(result_dict, file, indent=4, ensure_ascii=False)\n",
        "             #return result_dict\n",
        "             if result_dict.get('verified'):\n",
        "                return 'Співпадіння обличчя'\n",
        "             return 'Неспівпадіння обличчя'\n",
        "      except Exception as _ex:\n",
        "             return _ex\n",
        "def face_recognation():\n",
        "      try:\n",
        "             result = DeepFace.find(img_path='/faces/1.jpg', db_path='/Johnny')\n",
        "\n",
        "             return result\n",
        "      except Exception as _ex:\n",
        "             return _ex\n",
        "\n",
        "def face_analyze():\n",
        "      try:\n",
        "             result_dict = DeepFace.analyze(img_path='/faces/3.jpg', actions=['age', 'gender', 'race', 'emotion'])\n",
        "             with open('face_analyze.json', 'w') as file:\n",
        "                json.dump(result_dict, file, indent=4, ensure_ascii=False)\n",
        "             #print(f'[+] Age: {result_dict.get(\"age\")}')\n",
        "             #print(f'[+] Gender: {result_dict.get(\"gender\")}')\n",
        "            # print('[+] Race:')\n",
        "             #for k , v in result_dict.get('race').items():\n",
        "                 #print(f'{k} - {round(v, 2)}%')\n",
        "             #print('[+] Emotions:')\n",
        "             #for k , v in result_dict.get('emotion').items():\n",
        "                 #print(f'{k} - {round(v, 2)}%')\n",
        "             return result_dict\n",
        "\n",
        "      except Exception as _ex:\n",
        "             return _ex\n",
        "def main():\n",
        "\n",
        "         #print(face_verify(img_1='/faces/1.jpg', img_2='/faces/2.jpg'))\n",
        "         #print(face_recognation())\n",
        "      print(face_analyze())\n",
        "\n",
        "\n",
        "if __name__ == '__main__':\n",
        "         main()\n"
      ],
      "metadata": {
        "colab": {
          "base_uri": "https://localhost:8080/"
        },
        "id": "s5ZYwWh18epr",
        "outputId": "c5c5ecc9-c9d0-4cac-96ef-b33c7241fb3e"
      },
      "execution_count": 72,
      "outputs": [
        {
          "output_type": "stream",
          "name": "stderr",
          "text": [
            "Action: emotion: 100%|██████████| 4/4 [00:01<00:00,  2.15it/s]"
          ]
        },
        {
          "output_type": "stream",
          "name": "stdout",
          "text": [
            "[{'age': 30, 'region': {'x': 173, 'y': 7, 'w': 265, 'h': 265, 'left_eye': (348, 112), 'right_eye': (256, 111)}, 'face_confidence': 0.9, 'gender': {'Woman': 0.054170278599485755, 'Man': 99.94582533836365}, 'dominant_gender': 'Man', 'race': {'asian': 99.97847676533738, 'indian': 0.002545878002189673, 'black': 3.9943698694286945e-06, 'white': 0.0010819042092340637, 'middle eastern': 4.3012807628456324e-08, 'latino hispanic': 0.017883309243187696}, 'dominant_race': 'asian', 'emotion': {'angry': 0.16549164429306984, 'disgust': 0.005422128742793575, 'fear': 0.02960098208859563, 'happy': 0.0011409087164793164, 'sad': 1.2451163493096828, 'surprise': 0.00022543581508216448, 'neutral': 98.55300188064575}, 'dominant_emotion': 'neutral'}]\n"
          ]
        },
        {
          "output_type": "stream",
          "name": "stderr",
          "text": [
            "\n"
          ]
        }
      ]
    },
    {
      "cell_type": "code",
      "source": [
        "!pip install argparse"
      ],
      "metadata": {
        "colab": {
          "base_uri": "https://localhost:8080/",
          "height": 200
        },
        "id": "N1Oup-KlemNo",
        "outputId": "f907194a-8200-43c2-d6a8-6dd0201223cb"
      },
      "execution_count": 74,
      "outputs": [
        {
          "output_type": "stream",
          "name": "stdout",
          "text": [
            "Collecting argparse\n",
            "  Downloading argparse-1.4.0-py2.py3-none-any.whl.metadata (2.8 kB)\n",
            "Downloading argparse-1.4.0-py2.py3-none-any.whl (23 kB)\n",
            "Installing collected packages: argparse\n",
            "Successfully installed argparse-1.4.0\n"
          ]
        },
        {
          "output_type": "display_data",
          "data": {
            "application/vnd.colab-display-data+json": {
              "pip_warning": {
                "packages": [
                  "argparse"
                ]
              },
              "id": "5d233cea795a46bea50595738434ec83"
            }
          },
          "metadata": {}
        }
      ]
    },
    {
      "cell_type": "markdown",
      "source": [],
      "metadata": {
        "id": "ojbswadVGqZe"
      }
    }
  ]
}